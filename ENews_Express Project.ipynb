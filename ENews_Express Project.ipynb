{
 "cells": [
  {
   "cell_type": "markdown",
   "id": "6yDxo9u0d9Na",
   "metadata": {
    "id": "6yDxo9u0d9Na"
   },
   "source": [
    "# Project Business Statistics: E-news Express\n",
    "\n",
    "**Marks: 60**"
   ]
  },
  {
   "cell_type": "markdown",
   "id": "SrLd-ICEmPSD",
   "metadata": {
    "id": "SrLd-ICEmPSD"
   },
   "source": [
    "## Define Problem Statement and Objectives"
   ]
  },
  {
   "cell_type": "markdown",
   "id": "9Vt1PLLqmXNn",
   "metadata": {
    "id": "9Vt1PLLqmXNn"
   },
   "source": [
    "### Problem Statement \n",
    "An online news portal aims to expand its business by acquiring new subscribers.Every visitor to the website takes certain actions based on their interest. The company plans to analyze these interests and wants to determine whether a new feature will be effective or not to make whether the new landing page is more effective to gather new subscribers."
   ]
  },
  {
   "cell_type": "markdown",
   "id": "b0605344",
   "metadata": {},
   "source": [
    "### Objectives \n",
    "\n",
    "A randomly selected 100 users and divided them equally into two groups. The old landing page is served to the first group (control group) and the new landing page is served to the second group (treatment group). Various data about the customers in both groups are collected in 'abtest.csv'. Perform the statistical analysis to answer the following questions using the collected data.\n",
    "\n",
    "1. Explore the dataset and extract insights using Exploratory Data Analysis.\n",
    "2. Do the users spend more time on the new landing page than the existing landing page?\n",
    "3. Is the conversion rate (the proportion of users who visit the landing page and get converted) for the new page greater than the conversion rate for the old page?\n",
    "4. Does the converted status depend on the preferred language? \n",
    "5. Is the time spent on the new page same for the different language users?"
   ]
  },
  {
   "cell_type": "markdown",
   "id": "a6a3d218",
   "metadata": {
    "id": "a6a3d218"
   },
   "source": [
    "## Import all the necessary libraries"
   ]
  },
  {
   "cell_type": "code",
   "execution_count": 1,
   "id": "658c5dec",
   "metadata": {
    "id": "658c5dec"
   },
   "outputs": [],
   "source": [
    "import numpy as np\n",
    "import pandas as pd\n",
    "from matplotlib import pyplot as plt\n",
    "import seaborn as sns\n",
    "import warnings\n",
    "warnings.filterwarnings('ignore')"
   ]
  },
  {
   "cell_type": "markdown",
   "id": "9d75cfa2",
   "metadata": {
    "id": "9d75cfa2"
   },
   "source": [
    "## 1. Explore the dataset and extract insights using Exploratory Data Analysis. (10 Marks)"
   ]
  },
  {
   "cell_type": "markdown",
   "id": "27201534",
   "metadata": {
    "id": "27201534"
   },
   "source": [
    "### Exploratory Data Analysis - Step by step approach\n",
    "\n",
    "Typical Data exploration activity consists of the following steps:\n",
    "1.\tImporting Data\n",
    "2.\tVariable Identification\n",
    "3.  Variable Transformation/Feature Creation\n",
    "4.  Missing value detection\n",
    "5.\tUnivariate Analysis\n",
    "6.\tBivariate Analysis"
   ]
  },
  {
   "cell_type": "markdown",
   "id": "6970dd99",
   "metadata": {
    "id": "6970dd99"
   },
   "source": [
    "### Reading the Data into a DataFrame"
   ]
  },
  {
   "cell_type": "code",
   "execution_count": 2,
   "id": "d3b95640",
   "metadata": {
    "id": "d3b95640"
   },
   "outputs": [
    {
     "data": {
      "text/html": [
       "<div>\n",
       "<style scoped>\n",
       "    .dataframe tbody tr th:only-of-type {\n",
       "        vertical-align: middle;\n",
       "    }\n",
       "\n",
       "    .dataframe tbody tr th {\n",
       "        vertical-align: top;\n",
       "    }\n",
       "\n",
       "    .dataframe thead th {\n",
       "        text-align: right;\n",
       "    }\n",
       "</style>\n",
       "<table border=\"1\" class=\"dataframe\">\n",
       "  <thead>\n",
       "    <tr style=\"text-align: right;\">\n",
       "      <th></th>\n",
       "      <th>user_id</th>\n",
       "      <th>group</th>\n",
       "      <th>landing_page</th>\n",
       "      <th>time_spent_on_the_page</th>\n",
       "      <th>converted</th>\n",
       "      <th>language_preferred</th>\n",
       "    </tr>\n",
       "  </thead>\n",
       "  <tbody>\n",
       "    <tr>\n",
       "      <th>0</th>\n",
       "      <td>546592</td>\n",
       "      <td>control</td>\n",
       "      <td>old</td>\n",
       "      <td>3.48</td>\n",
       "      <td>no</td>\n",
       "      <td>Spanish</td>\n",
       "    </tr>\n",
       "    <tr>\n",
       "      <th>1</th>\n",
       "      <td>546468</td>\n",
       "      <td>treatment</td>\n",
       "      <td>new</td>\n",
       "      <td>7.13</td>\n",
       "      <td>yes</td>\n",
       "      <td>English</td>\n",
       "    </tr>\n",
       "    <tr>\n",
       "      <th>2</th>\n",
       "      <td>546462</td>\n",
       "      <td>treatment</td>\n",
       "      <td>new</td>\n",
       "      <td>4.40</td>\n",
       "      <td>no</td>\n",
       "      <td>Spanish</td>\n",
       "    </tr>\n",
       "  </tbody>\n",
       "</table>\n",
       "</div>"
      ],
      "text/plain": [
       "   user_id      group landing_page  time_spent_on_the_page converted  \\\n",
       "0   546592    control          old                    3.48        no   \n",
       "1   546468  treatment          new                    7.13       yes   \n",
       "2   546462  treatment          new                    4.40        no   \n",
       "\n",
       "  language_preferred  \n",
       "0            Spanish  \n",
       "1            English  \n",
       "2            Spanish  "
      ]
     },
     "execution_count": 2,
     "metadata": {},
     "output_type": "execute_result"
    }
   ],
   "source": [
    "# write the code for reading the dataset abtest.csv\n",
    "news = pd.read_csv('abtest.csv')\n",
    "\n",
    "news.head(3)"
   ]
  },
  {
   "cell_type": "code",
   "execution_count": 3,
   "id": "74092120",
   "metadata": {},
   "outputs": [
    {
     "data": {
      "text/html": [
       "<div>\n",
       "<style scoped>\n",
       "    .dataframe tbody tr th:only-of-type {\n",
       "        vertical-align: middle;\n",
       "    }\n",
       "\n",
       "    .dataframe tbody tr th {\n",
       "        vertical-align: top;\n",
       "    }\n",
       "\n",
       "    .dataframe thead th {\n",
       "        text-align: right;\n",
       "    }\n",
       "</style>\n",
       "<table border=\"1\" class=\"dataframe\">\n",
       "  <thead>\n",
       "    <tr style=\"text-align: right;\">\n",
       "      <th></th>\n",
       "      <th>user_id</th>\n",
       "      <th>group</th>\n",
       "      <th>landing_page</th>\n",
       "      <th>time_spent_on_the_page</th>\n",
       "      <th>converted</th>\n",
       "      <th>language_preferred</th>\n",
       "    </tr>\n",
       "  </thead>\n",
       "  <tbody>\n",
       "    <tr>\n",
       "      <th>97</th>\n",
       "      <td>546472</td>\n",
       "      <td>treatment</td>\n",
       "      <td>new</td>\n",
       "      <td>7.07</td>\n",
       "      <td>yes</td>\n",
       "      <td>Spanish</td>\n",
       "    </tr>\n",
       "    <tr>\n",
       "      <th>98</th>\n",
       "      <td>546481</td>\n",
       "      <td>treatment</td>\n",
       "      <td>new</td>\n",
       "      <td>6.20</td>\n",
       "      <td>yes</td>\n",
       "      <td>Spanish</td>\n",
       "    </tr>\n",
       "    <tr>\n",
       "      <th>99</th>\n",
       "      <td>546483</td>\n",
       "      <td>treatment</td>\n",
       "      <td>new</td>\n",
       "      <td>5.86</td>\n",
       "      <td>yes</td>\n",
       "      <td>English</td>\n",
       "    </tr>\n",
       "  </tbody>\n",
       "</table>\n",
       "</div>"
      ],
      "text/plain": [
       "    user_id      group landing_page  time_spent_on_the_page converted  \\\n",
       "97   546472  treatment          new                    7.07       yes   \n",
       "98   546481  treatment          new                    6.20       yes   \n",
       "99   546483  treatment          new                    5.86       yes   \n",
       "\n",
       "   language_preferred  \n",
       "97            Spanish  \n",
       "98            Spanish  \n",
       "99            English  "
      ]
     },
     "execution_count": 3,
     "metadata": {},
     "output_type": "execute_result"
    }
   ],
   "source": [
    "news.tail(3)"
   ]
  },
  {
   "cell_type": "code",
   "execution_count": 4,
   "id": "c9a3f058",
   "metadata": {},
   "outputs": [
    {
     "data": {
      "text/plain": [
       "(100, 6)"
      ]
     },
     "execution_count": 4,
     "metadata": {},
     "output_type": "execute_result"
    }
   ],
   "source": [
    "news.shape"
   ]
  },
  {
   "cell_type": "markdown",
   "id": "0706b846",
   "metadata": {},
   "source": [
    "### observation : There are 100 rows and 6 columns"
   ]
  },
  {
   "cell_type": "code",
   "execution_count": 5,
   "id": "fadf8dbe",
   "metadata": {},
   "outputs": [
    {
     "data": {
      "text/html": [
       "<div>\n",
       "<style scoped>\n",
       "    .dataframe tbody tr th:only-of-type {\n",
       "        vertical-align: middle;\n",
       "    }\n",
       "\n",
       "    .dataframe tbody tr th {\n",
       "        vertical-align: top;\n",
       "    }\n",
       "\n",
       "    .dataframe thead th {\n",
       "        text-align: right;\n",
       "    }\n",
       "</style>\n",
       "<table border=\"1\" class=\"dataframe\">\n",
       "  <thead>\n",
       "    <tr style=\"text-align: right;\">\n",
       "      <th></th>\n",
       "      <th>user_id</th>\n",
       "      <th>time_spent_on_the_page</th>\n",
       "    </tr>\n",
       "  </thead>\n",
       "  <tbody>\n",
       "    <tr>\n",
       "      <th>count</th>\n",
       "      <td>100.000000</td>\n",
       "      <td>100.000000</td>\n",
       "    </tr>\n",
       "    <tr>\n",
       "      <th>mean</th>\n",
       "      <td>546517.000000</td>\n",
       "      <td>5.377800</td>\n",
       "    </tr>\n",
       "    <tr>\n",
       "      <th>std</th>\n",
       "      <td>52.295779</td>\n",
       "      <td>2.378166</td>\n",
       "    </tr>\n",
       "    <tr>\n",
       "      <th>min</th>\n",
       "      <td>546443.000000</td>\n",
       "      <td>0.190000</td>\n",
       "    </tr>\n",
       "    <tr>\n",
       "      <th>25%</th>\n",
       "      <td>546467.750000</td>\n",
       "      <td>3.880000</td>\n",
       "    </tr>\n",
       "    <tr>\n",
       "      <th>50%</th>\n",
       "      <td>546492.500000</td>\n",
       "      <td>5.415000</td>\n",
       "    </tr>\n",
       "    <tr>\n",
       "      <th>75%</th>\n",
       "      <td>546567.250000</td>\n",
       "      <td>7.022500</td>\n",
       "    </tr>\n",
       "    <tr>\n",
       "      <th>max</th>\n",
       "      <td>546592.000000</td>\n",
       "      <td>10.710000</td>\n",
       "    </tr>\n",
       "  </tbody>\n",
       "</table>\n",
       "</div>"
      ],
      "text/plain": [
       "             user_id  time_spent_on_the_page\n",
       "count     100.000000              100.000000\n",
       "mean   546517.000000                5.377800\n",
       "std        52.295779                2.378166\n",
       "min    546443.000000                0.190000\n",
       "25%    546467.750000                3.880000\n",
       "50%    546492.500000                5.415000\n",
       "75%    546567.250000                7.022500\n",
       "max    546592.000000               10.710000"
      ]
     },
     "execution_count": 5,
     "metadata": {},
     "output_type": "execute_result"
    }
   ],
   "source": [
    "news.describe()"
   ]
  },
  {
   "cell_type": "markdown",
   "id": "4e046983",
   "metadata": {},
   "source": [
    "#### Observation:\n",
    "1. Avg time spent on the page 5.37\n",
    "2. Min time spent  0.19 \n",
    "3. Max tmie spent on 10.71"
   ]
  },
  {
   "cell_type": "code",
   "execution_count": 6,
   "id": "a29ef470",
   "metadata": {},
   "outputs": [
    {
     "name": "stdout",
     "output_type": "stream",
     "text": [
      "<class 'pandas.core.frame.DataFrame'>\n",
      "RangeIndex: 100 entries, 0 to 99\n",
      "Data columns (total 6 columns):\n",
      " #   Column                  Non-Null Count  Dtype  \n",
      "---  ------                  --------------  -----  \n",
      " 0   user_id                 100 non-null    int64  \n",
      " 1   group                   100 non-null    object \n",
      " 2   landing_page            100 non-null    object \n",
      " 3   time_spent_on_the_page  100 non-null    float64\n",
      " 4   converted               100 non-null    object \n",
      " 5   language_preferred      100 non-null    object \n",
      "dtypes: float64(1), int64(1), object(4)\n",
      "memory usage: 4.8+ KB\n"
     ]
    }
   ],
   "source": [
    "news.info()"
   ]
  },
  {
   "cell_type": "markdown",
   "id": "1dbb9314",
   "metadata": {},
   "source": [
    "#### Observation: There is 3 different Data types int(1), float(1), object(4)"
   ]
  },
  {
   "cell_type": "markdown",
   "id": "b4e7b657",
   "metadata": {},
   "source": [
    "#####  As is it observed there are 4 object data types converting them to category type for futher analysis"
   ]
  },
  {
   "cell_type": "code",
   "execution_count": 7,
   "id": "b8347fca",
   "metadata": {},
   "outputs": [],
   "source": [
    "news.group = news.group.astype('category')\n",
    "news.landing_page = news.landing_page.astype('category')\n",
    "news.converted = news.converted.astype('category')\n",
    "news.language_preferred = news.language_preferred.astype('category')"
   ]
  },
  {
   "cell_type": "markdown",
   "id": "c1aad54f",
   "metadata": {},
   "source": [
    "#### Checking the Data Types post conversion"
   ]
  },
  {
   "cell_type": "code",
   "execution_count": 8,
   "id": "cfc665c2",
   "metadata": {},
   "outputs": [
    {
     "name": "stdout",
     "output_type": "stream",
     "text": [
      "<class 'pandas.core.frame.DataFrame'>\n",
      "RangeIndex: 100 entries, 0 to 99\n",
      "Data columns (total 6 columns):\n",
      " #   Column                  Non-Null Count  Dtype   \n",
      "---  ------                  --------------  -----   \n",
      " 0   user_id                 100 non-null    int64   \n",
      " 1   group                   100 non-null    category\n",
      " 2   landing_page            100 non-null    category\n",
      " 3   time_spent_on_the_page  100 non-null    float64 \n",
      " 4   converted               100 non-null    category\n",
      " 5   language_preferred      100 non-null    category\n",
      "dtypes: category(4), float64(1), int64(1)\n",
      "memory usage: 2.6 KB\n"
     ]
    }
   ],
   "source": [
    "news.info()"
   ]
  },
  {
   "cell_type": "markdown",
   "id": "c37aa32f",
   "metadata": {},
   "source": [
    "\n",
    "##### Observation : It is observed and confirmed that the object datatype has been converted to category|"
   ]
  },
  {
   "cell_type": "markdown",
   "id": "556c8bf8",
   "metadata": {},
   "source": [
    "#### checking data for any missing values"
   ]
  },
  {
   "cell_type": "code",
   "execution_count": 9,
   "id": "edb1ebea",
   "metadata": {},
   "outputs": [
    {
     "data": {
      "text/plain": [
       "user_id                   0\n",
       "group                     0\n",
       "landing_page              0\n",
       "time_spent_on_the_page    0\n",
       "converted                 0\n",
       "language_preferred        0\n",
       "dtype: int64"
      ]
     },
     "execution_count": 9,
     "metadata": {},
     "output_type": "execute_result"
    }
   ],
   "source": [
    "news.isnull().sum()"
   ]
  },
  {
   "cell_type": "markdown",
   "id": "35306110",
   "metadata": {},
   "source": [
    "#### Observation : There are zero missing values and the data is good for analysis"
   ]
  },
  {
   "cell_type": "markdown",
   "id": "3abf10e7",
   "metadata": {},
   "source": [
    "### checking the column unique values  "
   ]
  },
  {
   "cell_type": "code",
   "execution_count": 52,
   "id": "fb309880",
   "metadata": {},
   "outputs": [
    {
     "data": {
      "text/plain": [
       "Index(['user_id', 'group', 'landing_page', 'time_spent_on_the_page',\n",
       "       'converted', 'language_preferred'],\n",
       "      dtype='object')"
      ]
     },
     "execution_count": 52,
     "metadata": {},
     "output_type": "execute_result"
    }
   ],
   "source": [
    "news.columns"
   ]
  },
  {
   "cell_type": "code",
   "execution_count": 10,
   "id": "969898bc",
   "metadata": {},
   "outputs": [
    {
     "data": {
      "text/plain": [
       "100"
      ]
     },
     "execution_count": 10,
     "metadata": {},
     "output_type": "execute_result"
    }
   ],
   "source": [
    "# User id column\n",
    "news.user_id.nunique()"
   ]
  },
  {
   "cell_type": "markdown",
   "id": "c3c4c5fa",
   "metadata": {},
   "source": [
    "#### Observation : There are 100 unique user ids"
   ]
  },
  {
   "cell_type": "code",
   "execution_count": 11,
   "id": "c0e358b4",
   "metadata": {},
   "outputs": [
    {
     "data": {
      "text/plain": [
       "control      50\n",
       "treatment    50\n",
       "Name: group, dtype: int64"
      ]
     },
     "execution_count": 11,
     "metadata": {},
     "output_type": "execute_result"
    }
   ],
   "source": [
    "# Group column\n",
    "news.group.value_counts()"
   ]
  },
  {
   "cell_type": "markdown",
   "id": "3f97f7ee",
   "metadata": {},
   "source": [
    "#### Observation : There are two unique values control , treatment  with a count of 50 each"
   ]
  },
  {
   "cell_type": "code",
   "execution_count": 53,
   "id": "13dd6fde",
   "metadata": {},
   "outputs": [
    {
     "data": {
      "text/plain": [
       "new    50\n",
       "old    50\n",
       "Name: landing_page, dtype: int64"
      ]
     },
     "execution_count": 53,
     "metadata": {},
     "output_type": "execute_result"
    }
   ],
   "source": [
    "# Landing page column\n",
    "news.landing_page.value_counts()"
   ]
  },
  {
   "cell_type": "markdown",
   "id": "3fc54e98",
   "metadata": {},
   "source": [
    "#### Observation : There are two unique values new , old  with a count of 50 each"
   ]
  },
  {
   "cell_type": "code",
   "execution_count": 54,
   "id": "fd4d2fb9",
   "metadata": {},
   "outputs": [
    {
     "data": {
      "text/plain": [
       "94"
      ]
     },
     "execution_count": 54,
     "metadata": {},
     "output_type": "execute_result"
    }
   ],
   "source": [
    "# Time spent on the page column\n",
    "news.time_spent_on_the_page.nunique()"
   ]
  },
  {
   "cell_type": "markdown",
   "id": "b2784cf7",
   "metadata": {},
   "source": [
    "#### Observation : There are 94 unique values"
   ]
  },
  {
   "cell_type": "code",
   "execution_count": 55,
   "id": "988761b8",
   "metadata": {},
   "outputs": [
    {
     "data": {
      "text/plain": [
       "yes    54\n",
       "no     46\n",
       "Name: converted, dtype: int64"
      ]
     },
     "execution_count": 55,
     "metadata": {},
     "output_type": "execute_result"
    }
   ],
   "source": [
    "# Converted column\n",
    "news.converted.value_counts()"
   ]
  },
  {
   "cell_type": "markdown",
   "id": "386b438e",
   "metadata": {},
   "source": [
    "#### Observation : Total converted count is 54 and not converted is 46"
   ]
  },
  {
   "cell_type": "code",
   "execution_count": 56,
   "id": "3d4b73f1",
   "metadata": {},
   "outputs": [
    {
     "data": {
      "text/plain": [
       "French     34\n",
       "Spanish    34\n",
       "English    32\n",
       "Name: language_preferred, dtype: int64"
      ]
     },
     "execution_count": 56,
     "metadata": {},
     "output_type": "execute_result"
    }
   ],
   "source": [
    "# Language preferred column\n",
    "news.language_preferred.value_counts()"
   ]
  },
  {
   "cell_type": "markdown",
   "id": "4fc7446a",
   "metadata": {},
   "source": [
    "#### Observation : There are 3 preferred languages French, Spanish and English."
   ]
  },
  {
   "cell_type": "markdown",
   "id": "a4e471fd",
   "metadata": {
    "id": "a4e471fd"
   },
   "source": [
    "### Data Overview"
   ]
  },
  {
   "cell_type": "markdown",
   "id": "3ffbc1ae",
   "metadata": {},
   "source": [
    "1. There are 100 rows and 6 columns\n",
    "2. Mean and Median values are very close which says the data is normally distributed\n",
    "3. Avg time spent on the page 5.37\n",
    "4. There is 3 different Data types int(1), float(1), object(4) post converting the object data type  to categorical data type the memory usage reduced from 4.8+ KB to 2.6 KB\n",
    "5. There are zero missing values and the data is good for analysis\n",
    "6. There are 100 unique User Ids\n",
    "7. Data is divided into  two unique groups control(old landing page) , treatment(New landing page) with a count of 50 each\n",
    "8. column showing the conversion with a count of 54 as converted and 46 not converted\n",
    "9. There are 3 preferred languages French, Spanish and English"
   ]
  },
  {
   "cell_type": "markdown",
   "id": "68f3b2c9",
   "metadata": {
    "id": "68f3b2c9"
   },
   "source": [
    "### Univariate Analysis"
   ]
  },
  {
   "cell_type": "code",
   "execution_count": 16,
   "id": "1932d0f3",
   "metadata": {
    "id": "1932d0f3"
   },
   "outputs": [],
   "source": [
    "# function to plot a boxplot and a histogram along the same scale.\n",
    "\n",
    "\n",
    "def histogram_boxplot(data, feature, figsize=(12, 7), kde=False, bins=None):\n",
    "    \"\"\"\n",
    "    Boxplot and histogram combined\n",
    "\n",
    "    data: dataframe\n",
    "    feature: dataframe column\n",
    "    figsize: size of figure (default (12,7))\n",
    "    kde: whether to show the density curve (default False)\n",
    "    bins: number of bins for histogram (default None)\n",
    "    \"\"\"\n",
    "    f2, (ax_box2, ax_hist2) = plt.subplots(\n",
    "        nrows=2,  # Number of rows of the subplot grid= 2\n",
    "        sharex=True,  # x-axis will be shared among all subplots\n",
    "        gridspec_kw={\"height_ratios\": (0.25, 0.75)},\n",
    "        figsize=figsize,\n",
    "    )  # creating the 2 subplots\n",
    "    sns.boxplot(\n",
    "        data=data, x=feature, ax=ax_box2, showmeans=True, color=\"violet\"\n",
    "    )  # boxplot will be created and a star will indicate the mean value of the column\n",
    "    sns.histplot(\n",
    "        data=data, x=feature, kde=kde, ax=ax_hist2, bins=bins, palette=\"winter\"\n",
    "    ) if bins else sns.histplot(\n",
    "        data=data, x=feature, kde=kde, ax=ax_hist2\n",
    "    )  # For histogram\n",
    "    ax_hist2.axvline(\n",
    "        data[feature].mean(), color=\"green\", linestyle=\"--\"\n",
    "    )  # Add mean to the histogram\n",
    "    ax_hist2.axvline(\n",
    "        data[feature].median(), color=\"black\", linestyle=\"-\"\n",
    "    )  # Add median to the histogram"
   ]
  },
  {
   "cell_type": "code",
   "execution_count": 17,
   "id": "2fce6350",
   "metadata": {
    "id": "2fce6350"
   },
   "outputs": [],
   "source": [
    "# function to create labeled barplots\n",
    "\n",
    "\n",
    "def labeled_barplot(data, feature, perc=False, n=None):\n",
    "    \"\"\"\n",
    "    Barplot with percentage at the top\n",
    "\n",
    "    data: dataframe\n",
    "    feature: dataframe column\n",
    "    perc: whether to display percentages instead of count (default is False)\n",
    "    n: displays the top n category levels (default is None, i.e., display all levels)\n",
    "    \"\"\"\n",
    "\n",
    "    total = len(data[feature])  # length of the column\n",
    "    count = data[feature].nunique()\n",
    "    if n is None:\n",
    "        plt.figure(figsize=(count + 1, 5))\n",
    "    else:\n",
    "        plt.figure(figsize=(n + 1, 5))\n",
    "\n",
    "    plt.xticks(rotation=90, fontsize=15)\n",
    "    ax = sns.countplot(data=data, x=feature, palette=\"Paired\", order=data[feature].value_counts().index[:n].sort_values())\n",
    "\n",
    "    for p in ax.patches:\n",
    "        if perc == True:\n",
    "            label = \"{:.1f}%\".format(100 * p.get_height() / total)  # percentage of each class of the category\n",
    "        else:\n",
    "            label = p.get_height()  # count of each level of the category\n",
    "\n",
    "        x = p.get_x() + p.get_width() / 2  # width of the plot\n",
    "        y = p.get_height()      # height of the plot\n",
    "\n",
    "        ax.annotate(label, (x, y), ha=\"center\", va=\"center\", size=12, xytext=(0, 5), textcoords=\"offset points\")  # annotate the percentage\n",
    "\n",
    "    plt.show()  # show the plot"
   ]
  },
  {
   "cell_type": "code",
   "execution_count": 18,
   "id": "e6f99481",
   "metadata": {
    "id": "e6f99481"
   },
   "outputs": [
    {
     "data": {
      "image/png": "[encoded data removed]",
      "text/plain": [
       "<Figure size 864x504 with 2 Axes>"
      ]
     },
     "metadata": {
      "needs_background": "light"
     },
     "output_type": "display_data"
    }
   ],
   "source": [
    "# Plotting a graph to view the distribution of the numerical column (time_spent_on_the_page)\n",
    "histogram_boxplot( news, 'time_spent_on_the_page')"
   ]
  },
  {
   "cell_type": "markdown",
   "id": "c47af800",
   "metadata": {},
   "source": [
    "#### Observations\n",
    "1. It is symmetrical distribution.\n",
    "2. Shows a normal distribution\n",
    "3. Avg time spent on the page is around 5 minutes\n",
    "4. Mean and Median are very close which says the data is normall distributed"
   ]
  },
  {
   "cell_type": "markdown",
   "id": "671b9757",
   "metadata": {},
   "source": [
    "####  Plots for the categorical columns "
   ]
  },
  {
   "cell_type": "code",
   "execution_count": 19,
   "id": "5e6473fe",
   "metadata": {},
   "outputs": [
    {
     "data": {
      "image/png": "[encoded data removed]",
      "text/plain": [
       "<Figure size 216x360 with 1 Axes>"
      ]
     },
     "metadata": {
      "needs_background": "light"
     },
     "output_type": "display_data"
    }
   ],
   "source": [
    "# Bar plot for the categorical column group\n",
    "\n",
    "labeled_barplot ( news , 'group' , perc=True)"
   ]
  },
  {
   "cell_type": "markdown",
   "id": "3ed21b63",
   "metadata": {},
   "source": [
    "#### Observation\n",
    "\n",
    "1. As mentioned in the porblem statement it was divided into two groups Old referred to as Control  Group ans New referred to as Treament Group. \n",
    "2. The data frame has equally provided for both the groups."
   ]
  },
  {
   "cell_type": "code",
   "execution_count": 49,
   "id": "15a9a2af",
   "metadata": {},
   "outputs": [
    {
     "data": {
      "image/png": "[encoded data removed]",
      "text/plain": [
       "<Figure size 216x360 with 1 Axes>"
      ]
     },
     "metadata": {
      "needs_background": "light"
     },
     "output_type": "display_data"
    }
   ],
   "source": [
    "# Bar plot for the categorical column landing_page\n",
    "\n",
    "labeled_barplot ( news , 'landing_page' , perc=True)"
   ]
  },
  {
   "cell_type": "markdown",
   "id": "f5ad3d07",
   "metadata": {},
   "source": [
    "#### Observation \n",
    "1. New represents the new landing page \n",
    "2. Old represents the existing page \n",
    "3. As mentioned in the above chart the data is equally provided for both new and old page"
   ]
  },
  {
   "cell_type": "code",
   "execution_count": 50,
   "id": "cf75b894",
   "metadata": {},
   "outputs": [
    {
     "data": {
      "image/png": "[encoded data removed]",
      "text/plain": [
       "<Figure size 216x360 with 1 Axes>"
      ]
     },
     "metadata": {
      "needs_background": "light"
     },
     "output_type": "display_data"
    }
   ],
   "source": [
    "# # Bar plot for the categorical column converted\n",
    "\n",
    "labeled_barplot ( news , 'converted' , perc=True)"
   ]
  },
  {
   "cell_type": "markdown",
   "id": "55247748",
   "metadata": {},
   "source": [
    "#### Observation\n",
    "\n",
    "1. As we can clearly see in the chart there is conversion rate is 54%"
   ]
  },
  {
   "cell_type": "code",
   "execution_count": 51,
   "id": "bdead6a5",
   "metadata": {},
   "outputs": [
    {
     "data": {
      "image/png": "[encoded data removed]",
      "text/plain": [
       "<Figure size 288x360 with 1 Axes>"
      ]
     },
     "metadata": {
      "needs_background": "light"
     },
     "output_type": "display_data"
    }
   ],
   "source": [
    "# Bar plot for the categorical column language_preferred\n",
    "\n",
    "labeled_barplot ( news , 'language_preferred' , perc=True)"
   ]
  },
  {
   "cell_type": "markdown",
   "id": "144e923e",
   "metadata": {},
   "source": [
    "#### Observation\n",
    " 1. Three preferred languages among English, French and Spanish\n",
    " 2. French and Spanish is more preferred than English."
   ]
  },
  {
   "cell_type": "markdown",
   "id": "fad2de2f",
   "metadata": {
    "id": "fad2de2f"
   },
   "source": [
    "### Bivariate Analysis"
   ]
  },
  {
   "cell_type": "code",
   "execution_count": 23,
   "id": "fecbff40",
   "metadata": {},
   "outputs": [
    {
     "data": {
      "image/png": "[encoded data removed]",
      "text/plain": [
       "<Figure size 576x432 with 1 Axes>"
      ]
     },
     "metadata": {
      "needs_background": "light"
     },
     "output_type": "display_data"
    }
   ],
   "source": [
    "# Plot to show relation between Groups and the Time spent on the page\n",
    "\n",
    "plt.figure(figsize=(8,6))\n",
    "sns.boxplot(x ='group', y='time_spent_on_the_page',data = news,showmeans = True)\n",
    "plt.show()"
   ]
  },
  {
   "cell_type": "markdown",
   "id": "36a64e2d",
   "metadata": {},
   "source": [
    "#### Observation\n",
    " 1. The Mean value on the Treatment group is higher.\n",
    " 2. Time spent on the Treatment group is more than the control group"
   ]
  },
  {
   "cell_type": "code",
   "execution_count": 24,
   "id": "58124ae3",
   "metadata": {},
   "outputs": [
    {
     "data": {
      "image/png": "[encoded data removed]",
      "text/plain": [
       "<Figure size 576x432 with 1 Axes>"
      ]
     },
     "metadata": {
      "needs_background": "light"
     },
     "output_type": "display_data"
    }
   ],
   "source": [
    "# Plot to show relation between landing_page and the Time spent on the page\n",
    "\n",
    "plt.figure(figsize=(8,6))\n",
    "sns.boxplot(x ='landing_page', y='time_spent_on_the_page',data = news,showmeans=True)\n",
    "plt.show()"
   ]
  },
  {
   "cell_type": "markdown",
   "id": "d71c0e8b",
   "metadata": {},
   "source": [
    "#### Observation\n",
    " 1. The Mean value on the New landing page is higher.\n",
    " 2. Time spent on the  is  New landing page more than Old landing page."
   ]
  },
  {
   "cell_type": "code",
   "execution_count": 25,
   "id": "ab49d73e",
   "metadata": {},
   "outputs": [
    {
     "data": {
      "image/png": "[encoded data removed]",
      "text/plain": [
       "<Figure size 576x432 with 1 Axes>"
      ]
     },
     "metadata": {
      "needs_background": "light"
     },
     "output_type": "display_data"
    }
   ],
   "source": [
    "# Plot to show relation between converted and the Time spent on the page\n",
    "\n",
    "plt.figure(figsize=(8,6))\n",
    "sns.boxplot(x ='converted', y='time_spent_on_the_page',data = news,showmeans=True)\n",
    "plt.show()"
   ]
  },
  {
   "cell_type": "markdown",
   "id": "3862b437",
   "metadata": {},
   "source": [
    "#### Observation\n",
    " 1. The Mean value on the converted is higher.\n",
    " 2. Time spent by the converted is more than not converted"
   ]
  },
  {
   "cell_type": "markdown",
   "id": "27906576",
   "metadata": {
    "id": "27906576"
   },
   "source": [
    "## 2. Do the users spend more time on the new landing page than the existing landing page? (10 Marks)"
   ]
  },
  {
   "cell_type": "markdown",
   "id": "e5fdf0c8",
   "metadata": {
    "id": "e5fdf0c8"
   },
   "source": [
    "### Perform Visual Analysis"
   ]
  },
  {
   "cell_type": "markdown",
   "id": "3a0a9aaa",
   "metadata": {},
   "source": [
    "### Combined plot showing comparison of time spent on both the new and old landing pages together"
   ]
  },
  {
   "cell_type": "code",
   "execution_count": 26,
   "id": "6eZJa41eg21n",
   "metadata": {
    "id": "6eZJa41eg21n"
   },
   "outputs": [
    {
     "data": {
      "image/png": "[encoded data removed]",
      "text/plain": [
       "<Figure size 576x432 with 1 Axes>"
      ]
     },
     "metadata": {
      "needs_background": "light"
     },
     "output_type": "display_data"
    }
   ],
   "source": [
    "plt.figure(figsize=(8,6))\n",
    "sns.boxplot(x ='time_spent_on_the_page', y='landing_page',data = news, showmeans=True)\n",
    "plt.show()"
   ]
  },
  {
   "cell_type": "markdown",
   "id": "da8bc634",
   "metadata": {},
   "source": [
    "#### Observation : The the Plot shows the mean value for New landing page is greater than the old landing page. Visually we can confirm users spend more time on the new landing page. Lets proceed with the hypothesis test to prove the same"
   ]
  },
  {
   "cell_type": "markdown",
   "id": "b6700fd9",
   "metadata": {},
   "source": [
    "###  Individual plots of New data and Old data"
   ]
  },
  {
   "cell_type": "markdown",
   "id": "ffb7ab1e",
   "metadata": {},
   "source": [
    "### New Group Plot"
   ]
  },
  {
   "cell_type": "code",
   "execution_count": 57,
   "id": "53019493",
   "metadata": {},
   "outputs": [
    {
     "data": {
      "image/png": "[encoded data removed]",
      "text/plain": [
       "<Figure size 432x288 with 1 Axes>"
      ]
     },
     "metadata": {
      "needs_background": "light"
     },
     "output_type": "display_data"
    },
    {
     "data": {
      "text/plain": [
       "<function matplotlib.pyplot.show(close=None, block=None)>"
      ]
     },
     "execution_count": 57,
     "metadata": {},
     "output_type": "execute_result"
    },
    {
     "data": {
      "image/png": "[encoded data removed]",
      "text/plain": [
       "<Figure size 432x288 with 1 Axes>"
      ]
     },
     "metadata": {
      "needs_background": "light"
     },
     "output_type": "display_data"
    }
   ],
   "source": [
    "# Extracting new group data to plot a graph to see the distribution\n",
    "new_group_plot = news[news['landing_page']== 'new']['time_spent_on_the_page'].reset_index()\n",
    "sns.distplot(new_group_plot['time_spent_on_the_page'],color='blue')\n",
    "plt.show()\n",
    "    sns.boxplot(y='time_spent_on_the_page',data=new_group_plot,showmeans=True)\n",
    "    plt.show"
   ]
  },
  {
   "cell_type": "markdown",
   "id": "13218646",
   "metadata": {},
   "source": [
    "### Old Group Plot"
   ]
  },
  {
   "cell_type": "code",
   "execution_count": 58,
   "id": "8d5a218f",
   "metadata": {},
   "outputs": [
    {
     "data": {
      "image/png": "[encoded data removed]",
      "text/plain": [
       "<Figure size 432x288 with 1 Axes>"
      ]
     },
     "metadata": {
      "needs_background": "light"
     },
     "output_type": "display_data"
    },
    {
     "data": {
      "text/plain": [
       "<function matplotlib.pyplot.show(close=None, block=None)>"
      ]
     },
     "execution_count": 58,
     "metadata": {},
     "output_type": "execute_result"
    },
    {
     "data": {
      "image/png": "[encoded data removed]",
      "text/plain": [
       "<Figure size 432x288 with 1 Axes>"
      ]
     },
     "metadata": {
      "needs_background": "light"
     },
     "output_type": "display_data"
    }
   ],
   "source": [
    "# Extracting old  group data to plot a graph to see the distribution \n",
    "old_group_plot = news[news['landing_page']== 'old']['time_spent_on_the_page'].reset_index()\n",
    "sns.distplot(old_group_plot['time_spent_on_the_page'],color='blue')\n",
    "plt.show()\n",
    "sns.boxplot(y='time_spent_on_the_page',data=old_group_plot,showmeans=True)\n",
    "plt.show"
   ]
  },
  {
   "cell_type": "markdown",
   "id": "8a56ebe8",
   "metadata": {},
   "source": [
    "### Observation : As we can see the both the plots shows a normal distribution for both the samples New and Old"
   ]
  },
  {
   "cell_type": "markdown",
   "id": "56b3dafd",
   "metadata": {
    "id": "56b3dafd"
   },
   "source": [
    "### Step 1: Define the null and alternate hypotheses"
   ]
  },
  {
   "cell_type": "markdown",
   "id": "d2ac77ef",
   "metadata": {
    "id": "d2ac77ef"
   },
   "source": [
    " Let μ1  and μ2 be the mean values of the new landing page and the old landing page\n",
    " \n",
    " null hypothesis stating time spent on pages are equal\n",
    " \n",
    " Ho :μ1 = μ2\n",
    " \n",
    " alternate hypothesis stating time spent on new page is greater than existing page\n",
    " \n",
    " Ha :μ1 > μ2"
   ]
  },
  {
   "cell_type": "markdown",
   "id": "c7ee4907",
   "metadata": {
    "id": "c7ee4907"
   },
   "source": [
    "### Step 2: Select Appropriate test"
   ]
  },
  {
   "cell_type": "markdown",
   "id": "c051f083",
   "metadata": {
    "id": "2c183cd7"
   },
   "source": [
    "\n",
    "* Continuous data - Yes, it is measured on a continuous scale.\n",
    "* Normally distributed populations - Yes, we are informed that the populations are assumed to be normal.\n",
    "* Independent populations - As we are taking random samples for two different groups, the two samples are from two independent populations.\n",
    "* Unequal population standard deviations - As the sample standard deviations are different, the population standard deviations may be assumed to be different.\n",
    "* Random sampling from the population - Yes, we are informed that the collected sample a simple random sample.\n",
    "\n",
    "#### We can use two sample T-test for this problem"
   ]
  },
  {
   "cell_type": "markdown",
   "id": "3f58c9a7",
   "metadata": {
    "id": "3f58c9a7"
   },
   "source": [
    "### Step 3: Decide the significance level"
   ]
  },
  {
   "cell_type": "markdown",
   "id": "92d7d7ee",
   "metadata": {
    "id": "92d7d7ee"
   },
   "source": [
    "  Level of Significance is 0.05 as mentioned in the problem statement\n",
    "  \n",
    "  α = 0.05"
   ]
  },
  {
   "cell_type": "markdown",
   "id": "5fed2eac",
   "metadata": {
    "id": "5fed2eac"
   },
   "source": [
    "### Step 4: Collect and prepare data"
   ]
  },
  {
   "cell_type": "code",
   "execution_count": 83,
   "id": "a4c6f200",
   "metadata": {},
   "outputs": [],
   "source": [
    "# Below is a DF for just the new group \n",
    "new_group = news[news['landing_page']== 'new']['time_spent_on_the_page']\n",
    "# Below is a DF for just the old group\n",
    "old_group = news[news['landing_page']== 'old']['time_spent_on_the_page']"
   ]
  },
  {
   "cell_type": "code",
   "execution_count": 60,
   "id": "f5a59495",
   "metadata": {
    "id": "f5a59495"
   },
   "outputs": [
    {
     "name": "stdout",
     "output_type": "stream",
     "text": [
      "The mean value of the new group is 6.22\n",
      "The mean value of the old group is 4.53\n",
      "The std dev value of the new group is 1.82\n",
      "The std dev value of the old group is 2.58\n"
     ]
    }
   ],
   "source": [
    "\n",
    "### We need to get the mean  and std deviation values of both the samples for further calculations\n",
    "new_group_mean = news[news['landing_page']== 'new']['time_spent_on_the_page'].mean()\n",
    "print('The mean value of the new group is', round((new_group_mean),2))\n",
    "old_group_mean = old_group = news[news['landing_page']== 'old']['time_spent_on_the_page'].mean()\n",
    "print('The mean value of the old group is', round((old_group_mean),2))\n",
    "new_group_std = news[news['landing_page']== 'new']['time_spent_on_the_page'].std()\n",
    "print('The std dev value of the new group is', round((new_group_std),2))\n",
    "old_group_std = old_group = news[news['landing_page']== 'old']['time_spent_on_the_page'].std()\n",
    "print('The std dev value of the old group is', round((old_group_std),2))"
   ]
  },
  {
   "cell_type": "markdown",
   "id": "f5c5258d",
   "metadata": {
    "id": "f5c5258d"
   },
   "source": [
    "### Step 5: Calculate the p-value"
   ]
  },
  {
   "cell_type": "code",
   "execution_count": 84,
   "id": "fac8594a",
   "metadata": {
    "id": "fac8594a"
   },
   "outputs": [
    {
     "name": "stdout",
     "output_type": "stream",
     "text": [
      "The p-value is  0.0001392381225166549\n"
     ]
    }
   ],
   "source": [
    "#import the required functions\n",
    "from scipy.stats import ttest_ind\n",
    "\n",
    "# find the p-value\n",
    "test_stat,p_value = ttest_ind(new_group, old_group,equal_var = False, alternative = 'greater')\n",
    "print('The p-value is ', p_value)"
   ]
  },
  {
   "cell_type": "markdown",
   "id": "f63e296f",
   "metadata": {
    "id": "359b12f8"
   },
   "source": [
    "### Step 6: Compare the p-value with $\\alpha$"
   ]
  },
  {
   "cell_type": "markdown",
   "id": "f18e84b3",
   "metadata": {
    "id": "7be47289"
   },
   "source": [
    "*  P value = 0.0001392381225166549 \n",
    "*  𝛼 value = 0.05 \n",
    "\n",
    "#### P-value is less compared to the 𝛼 value ( level of significance )"
   ]
  },
  {
   "cell_type": "markdown",
   "id": "d9affc84",
   "metadata": {
    "id": "d9affc84"
   },
   "source": [
    "### Step 7:  Draw inference"
   ]
  },
  {
   "cell_type": "markdown",
   "id": "6b16dd4b",
   "metadata": {
    "id": "6b16dd4b"
   },
   "source": [
    "### Conclusion:\n",
    "*  p value is less than  $\\alpha$ level of significance\n",
    "*  we  reject the Null hypothesis  \n",
    "*  Can conclude that users spend more time on the new landing page than the existing landing page"
   ]
  },
  {
   "cell_type": "markdown",
   "id": "1ad0823a",
   "metadata": {
    "id": "1ad0823a"
   },
   "source": [
    "**A similar approach can be followed to answer the other questions.**"
   ]
  },
  {
   "cell_type": "markdown",
   "id": "353e9d24",
   "metadata": {
    "id": "353e9d24"
   },
   "source": [
    "## 3. Is the conversion rate (the proportion of users who visit the landing page and get converted) for the new page greater than the conversion rate for the old page? (10 Marks)"
   ]
  },
  {
   "cell_type": "markdown",
   "id": "1059f26b",
   "metadata": {},
   "source": [
    "### Perform Visual Analysis"
   ]
  },
  {
   "cell_type": "code",
   "execution_count": 62,
   "id": "b7f52898",
   "metadata": {
    "id": "b7f52898"
   },
   "outputs": [
    {
     "data": {
      "image/png": "[encoded data removed]",
      "text/plain": [
       "<Figure size 576x432 with 1 Axes>"
      ]
     },
     "metadata": {
      "needs_background": "light"
     },
     "output_type": "display_data"
    }
   ],
   "source": [
    "plt.figure(figsize=(8,6))\n",
    "sns.countplot(news['landing_page'], hue = news['converted'] )\n",
    "plt.show()"
   ]
  },
  {
   "cell_type": "markdown",
   "id": "3edca436",
   "metadata": {},
   "source": [
    "#### Observation : Visually the plot states the conversion rate on new page is greater than the old page. Lets proceed with the hypothesis test to prove the same"
   ]
  },
  {
   "cell_type": "markdown",
   "id": "c7803025",
   "metadata": {},
   "source": [
    "### Step 1: Define the null and alternate hypotheses"
   ]
  },
  {
   "cell_type": "markdown",
   "id": "83fec90c",
   "metadata": {},
   "source": [
    " Let P1 and P2 be the proportion of conversion rate of the two pages old and new\n",
    " \n",
    " null hypothesis stating conversion rate on both the pages are equal\n",
    " \n",
    " Ho :P1 = P2\n",
    " \n",
    " alternate hypothesis stating proportion of conersion rate on new page is greater than old page\n",
    " \n",
    " Ha :P1 > P2"
   ]
  },
  {
   "cell_type": "markdown",
   "id": "03437f37",
   "metadata": {},
   "source": [
    "### Step 2: Select Appropriate test"
   ]
  },
  {
   "cell_type": "markdown",
   "id": "9639e300",
   "metadata": {},
   "source": [
    "Two Proportion Z-test as it involves two proportions. we can confirm if it satisfies the assumptions for the Two proportion Z test ( please see below Step 5)"
   ]
  },
  {
   "cell_type": "markdown",
   "id": "a40bf44f",
   "metadata": {},
   "source": [
    "### Step 3: Decide the significance level"
   ]
  },
  {
   "cell_type": "markdown",
   "id": "46d32180",
   "metadata": {},
   "source": [
    "  Level of Significance is 0.05 as mentioned in the problem statement\n",
    "  \n",
    "  α = 0.05"
   ]
  },
  {
   "cell_type": "markdown",
   "id": "d1aa3447",
   "metadata": {},
   "source": [
    "### Step 4: Collect and prepare data"
   ]
  },
  {
   "cell_type": "markdown",
   "id": "a84619a1",
   "metadata": {},
   "source": [
    "### For this test we need the conversion count and sample size of both the pages."
   ]
  },
  {
   "cell_type": "markdown",
   "id": "21b2e31a",
   "metadata": {},
   "source": [
    "#### Getting the conversion count for both the pages "
   ]
  },
  {
   "cell_type": "code",
   "execution_count": 63,
   "id": "c222348e",
   "metadata": {},
   "outputs": [
    {
     "name": "stdout",
     "output_type": "stream",
     "text": [
      "yes    33\n",
      "no     17\n",
      "Name: converted, dtype: int64\n"
     ]
    }
   ],
   "source": [
    "# conversion count for the new page\n",
    "new_converted_count = news[(news.landing_page == 'new')]['converted'].value_counts()\n",
    "print(new_converted_count)"
   ]
  },
  {
   "cell_type": "code",
   "execution_count": 64,
   "id": "48a89e95",
   "metadata": {},
   "outputs": [
    {
     "name": "stdout",
     "output_type": "stream",
     "text": [
      "no     29\n",
      "yes    21\n",
      "Name: converted, dtype: int64\n"
     ]
    }
   ],
   "source": [
    "# conversion count for the old page\n",
    "old_converted_count = news[(news.landing_page == 'old')]['converted'].value_counts()\n",
    "print(old_converted_count)"
   ]
  },
  {
   "cell_type": "code",
   "execution_count": 65,
   "id": "af828c7d",
   "metadata": {},
   "outputs": [
    {
     "name": "stdout",
     "output_type": "stream",
     "text": [
      " The conversion count for  new page and old page are: 33 and 21\n"
     ]
    }
   ],
   "source": [
    "print(' The conversion count for  new page and old page are:','33 and 21')"
   ]
  },
  {
   "cell_type": "code",
   "execution_count": 66,
   "id": "d55163c5",
   "metadata": {},
   "outputs": [],
   "source": [
    "# As we now the count of the conversion for the individual pages. Setting the sample count for both new and old pages\n",
    "conversion_count = np.array([33, 21])"
   ]
  },
  {
   "cell_type": "markdown",
   "id": "561440fc",
   "metadata": {},
   "source": [
    "#### Getting the sample size  for both the pages"
   ]
  },
  {
   "cell_type": "code",
   "execution_count": 67,
   "id": "4a253648",
   "metadata": {},
   "outputs": [
    {
     "name": "stdout",
     "output_type": "stream",
     "text": [
      "new    50\n",
      "old    50\n",
      "Name: landing_page, dtype: int64\n",
      "The sample  size for  new page and old page are: 50 and 50\n"
     ]
    }
   ],
   "source": [
    "#  checking for the sample size for both new and old page\n",
    "print(news.landing_page.value_counts())\n",
    "print('The sample  size for  new page and old page are:','50 and 50')"
   ]
  },
  {
   "cell_type": "code",
   "execution_count": 68,
   "id": "11c43647",
   "metadata": {},
   "outputs": [],
   "source": [
    "# As we now the sample size. Setting the sample size for both new and old pages\n",
    "conv_sample_size = np.array([50, 50])"
   ]
  },
  {
   "cell_type": "markdown",
   "id": "61db5539",
   "metadata": {},
   "source": [
    " ### Step 5: Let's test whether the Z-test assumptions are satisfied or not\n",
    "\n",
    "*   Binomally distributed population - Yes, a product is either converted or not \n",
    "*   Random sampling from the population - Yes, we are informed that the collected sample is a simple random sample.  \n",
    "*   Can the binomial distribution approximated to normal distribution - Yes. For binary data, CLT works slower than usual. The standard thing is to check whether np and n(1-p) are greater than or equal to 10. Here, n and p refer to the sample size and sample proportion respectively.\n",
    ">$np_1 = 50\\cdot \\frac{33}{50} =33 \\geq 10\\\\\n",
    "n(1-p_1) = 50 \\cdot \\frac{50-33}{50} = 17 \\geq 10 \\\\\n",
    "np_2 = 50\\cdot \\frac{29}{50} =29 \\geq 10\\\\\n",
    "n(1-p_2) = 50 \\cdot \\frac{50-29}{375} =21 \\geq 10 $"
   ]
  },
  {
   "cell_type": "markdown",
   "id": "c0d1714b",
   "metadata": {},
   "source": [
    "#### Observation : The values are greater than 10. Hence, we can confirm and continue with the Two Proportion Z-test"
   ]
  },
  {
   "cell_type": "markdown",
   "id": "986cc166",
   "metadata": {},
   "source": [
    "### Step 6: Calculate the p-value"
   ]
  },
  {
   "cell_type": "markdown",
   "id": "dc5556b5",
   "metadata": {},
   "source": [
    "#### As we now have the conversion count and sample size required for the Two Proportion Z-test lets now calculate the P- value"
   ]
  },
  {
   "cell_type": "code",
   "execution_count": 69,
   "id": "af0881f1",
   "metadata": {},
   "outputs": [
    {
     "name": "stdout",
     "output_type": "stream",
     "text": [
      "The p-value is 0.008026308204056278\n"
     ]
    }
   ],
   "source": [
    "# import the required fuction\n",
    "from statsmodels.stats.proportion import proportions_ztest\n",
    "\n",
    "# find the p-value\n",
    "test_stat, p_value = proportions_ztest(conversion_count, conv_sample_size,alternative='larger')\n",
    "print('The p-value is ' + str(p_value))"
   ]
  },
  {
   "cell_type": "markdown",
   "id": "2768208e",
   "metadata": {},
   "source": [
    "### Step 7: Compare the p-value with $\\alpha$"
   ]
  },
  {
   "cell_type": "markdown",
   "id": "a91cd907",
   "metadata": {},
   "source": [
    "*  P value = 0.008026308204056278\n",
    "*  𝛼 value = 0.05 \n",
    "\n",
    "#### P-value is less compared to the 𝛼 value ( level of significance )"
   ]
  },
  {
   "cell_type": "markdown",
   "id": "bd4a1787",
   "metadata": {},
   "source": [
    "### Step 8:  Draw inference"
   ]
  },
  {
   "cell_type": "markdown",
   "id": "92f79a3e",
   "metadata": {},
   "source": [
    "### Conclusion:\n",
    "*  p value is less than  $\\alpha$ level of significance\n",
    "*  we  reject the Null hypothesis  \n",
    "*  we can conclude that we have enough statistical  evidence to state that conversion rate for new page is greater than the old page"
   ]
  },
  {
   "cell_type": "markdown",
   "id": "d49bfa2d",
   "metadata": {
    "id": "d49bfa2d"
   },
   "source": [
    "## 4. Is the conversion and preferred language are independent or related? (10 Marks)"
   ]
  },
  {
   "cell_type": "markdown",
   "id": "2daaea1c",
   "metadata": {},
   "source": [
    "### Perform Visual Analysis"
   ]
  },
  {
   "cell_type": "code",
   "execution_count": 70,
   "id": "f1a42f70",
   "metadata": {
    "scrolled": true
   },
   "outputs": [
    {
     "data": {
      "image/png": "[encoded data removed]",
      "text/plain": [
       "<Figure size 720x360 with 1 Axes>"
      ]
     },
     "metadata": {
      "needs_background": "light"
     },
     "output_type": "display_data"
    }
   ],
   "source": [
    "plt.figure(figsize=(10,5))\n",
    "sns.countplot(news['converted'], hue = news['language_preferred'])\n",
    "plt.show()"
   ]
  },
  {
   "cell_type": "markdown",
   "id": "113ed27d",
   "metadata": {},
   "source": [
    "### Conclusion : As it shows in the plot English is the most preferred language. However, we cannot conclude if language and conversion are related or independant"
   ]
  },
  {
   "cell_type": "markdown",
   "id": "eecfe347",
   "metadata": {},
   "source": [
    "### Step 1: Define the null and alternate hypothesis"
   ]
  },
  {
   "cell_type": "markdown",
   "id": "8b82867b",
   "metadata": {},
   "source": [
    "We will test the null hypothesis\n",
    "\n",
    ">$H_0:$ conversion and preferred language are independent \n",
    "\n",
    "against the alternate hypothesis\n",
    "\n",
    ">$H_a:$ conversion and preferred language are related"
   ]
  },
  {
   "cell_type": "markdown",
   "id": "157d51d0",
   "metadata": {},
   "source": [
    "\n",
    "### Step 2: Select Appropriate test"
   ]
  },
  {
   "cell_type": "markdown",
   "id": "5a89a2d9",
   "metadata": {},
   "source": [
    "Chi-Square Test for Independence.we can confirm if it satisfies the assumptions for the Chi-Square Test ( please see below Step 5)"
   ]
  },
  {
   "cell_type": "markdown",
   "id": "bdf18013",
   "metadata": {},
   "source": [
    "\n",
    "### Step 3: Decide the significance level"
   ]
  },
  {
   "cell_type": "markdown",
   "id": "3658a42c",
   "metadata": {},
   "source": [
    "  Level of Significance is 0.05 as mentioned in the problem statement\n",
    "  \n",
    "  α = 0.05"
   ]
  },
  {
   "cell_type": "markdown",
   "id": "93b6c9f7",
   "metadata": {},
   "source": [
    "### Step 4: Collect and prepare data"
   ]
  },
  {
   "cell_type": "code",
   "execution_count": 71,
   "id": "d4287bce",
   "metadata": {},
   "outputs": [
    {
     "name": "stdout",
     "output_type": "stream",
     "text": [
      "language_preferred  English  French  Spanish\n",
      "converted                                   \n",
      "no                       11      19       16\n",
      "yes                      21      15       18\n"
     ]
    }
   ],
   "source": [
    "# Preparing a contingency table\n",
    "\n",
    "news_crosstab = pd.crosstab(news['converted'],\n",
    "                      news['language_preferred'])\n",
    "print(news_crosstab)"
   ]
  },
  {
   "cell_type": "markdown",
   "id": "2c827413",
   "metadata": {},
   "source": [
    "\n",
    "### Step 5: Let's test whether the Z-test assumptions are satisfied or not"
   ]
  },
  {
   "cell_type": "markdown",
   "id": "8f603dd5",
   "metadata": {},
   "source": [
    "\n",
    "* Categorical variables - Yes\n",
    "* Expected value of the number of sample observations in each level of the variable is at least 5 - Yes, the number of observations in each level is greater than 5.\n",
    "* Random sampling from the population - Yes, we are informed that the collected sample is a simple random sample."
   ]
  },
  {
   "cell_type": "markdown",
   "id": "1a9a897b",
   "metadata": {},
   "source": [
    "### Step 6: Calculate the p-value"
   ]
  },
  {
   "cell_type": "code",
   "execution_count": 72,
   "id": "dc23c8e9",
   "metadata": {},
   "outputs": [
    {
     "name": "stdout",
     "output_type": "stream",
     "text": [
      "The p-value is 0.21298887487543447\n"
     ]
    }
   ],
   "source": [
    "# import the required function\n",
    "from scipy.stats import chi2_contingency\n",
    "\n",
    "# find the p-value\n",
    "chi, p_value, dof, expected = chi2_contingency(news_crosstab)\n",
    "                                               \n",
    "print('The p-value is', p_value)"
   ]
  },
  {
   "cell_type": "markdown",
   "id": "cabafdc5",
   "metadata": {},
   "source": [
    "\n",
    "### Step 7: Compare the p-value with $\\alpha$"
   ]
  },
  {
   "cell_type": "markdown",
   "id": "571dc472",
   "metadata": {},
   "source": [
    "*  P value = 0.21298887487543447\n",
    "*  𝛼 value = 0.05 \n",
    "\n",
    "#### P-value is greater compared to the 𝛼 value ( level of significance )"
   ]
  },
  {
   "cell_type": "markdown",
   "id": "8b72e17f",
   "metadata": {},
   "source": [
    "### Step 8:  Draw inference"
   ]
  },
  {
   "cell_type": "markdown",
   "id": "98944565",
   "metadata": {},
   "source": [
    "As the p-value is greater than the significance level, we fail to reject the null hypothesis. Hence we cannot conclude if the conversion and language preferred are related."
   ]
  },
  {
   "cell_type": "markdown",
   "id": "8d585a90",
   "metadata": {
    "id": "8d585a90"
   },
   "source": [
    "## 5. Is the time spent on the new page same for the different language users? (10 Marks)"
   ]
  },
  {
   "cell_type": "markdown",
   "id": "eb093850",
   "metadata": {},
   "source": [
    "### Perform Visual Analysis"
   ]
  },
  {
   "cell_type": "code",
   "execution_count": 73,
   "id": "b422f395",
   "metadata": {
    "id": "b422f395"
   },
   "outputs": [
    {
     "data": {
      "image/png": "[encoded data removed]",
      "text/plain": [
       "<Figure size 720x504 with 1 Axes>"
      ]
     },
     "metadata": {
      "needs_background": "light"
     },
     "output_type": "display_data"
    }
   ],
   "source": [
    "# Filtering to make a new data frame for the new landing page\n",
    "new_landing_page = news[news['landing_page']== 'new']\n",
    "\n",
    "# Plotting a Graph to see time spent on the new page for different language users\n",
    "plt.figure(figsize=(10,7))\n",
    "n =sns.boxplot( x= 'language_preferred', y = 'time_spent_on_the_page' , data = new_landing_page, hue = 'group' )\n",
    "n.set_title(\"Time spent on the new page for the different language users\", fontsize=15)\n",
    "plt.show()"
   ]
  },
  {
   "cell_type": "markdown",
   "id": "1035acb7",
   "metadata": {},
   "source": [
    "### Step 1: Define the null and alternate hypothesis"
   ]
  },
  {
   "cell_type": "markdown",
   "id": "a593a17f",
   "metadata": {},
   "source": [
    "Let $\\mu_1, \\mu_2, \\mu_3$ be the means of time spent on the new page for the languages English, French and Spanish respectively.\n",
    "\n",
    "We will test the null hypothesis\n",
    "\n",
    ">$H_0: \\mu_1 = \\mu_2 = \\mu_3$\n",
    "\n",
    "against the alternative hypothesis\n",
    "\n",
    ">$H_a: $ At least one mean time spent on the new page is different from the rest.\n"
   ]
  },
  {
   "cell_type": "markdown",
   "id": "fb05dcaf",
   "metadata": {},
   "source": [
    "### Step 2: Select Appropriate test"
   ]
  },
  {
   "cell_type": "markdown",
   "id": "b95d5306",
   "metadata": {},
   "source": [
    "One-way ANOVA Test.we can confirm if it satisfies the assumptions for the One-way ANOVA Test( please see below Step 5)"
   ]
  },
  {
   "cell_type": "markdown",
   "id": "84593295",
   "metadata": {},
   "source": [
    "### Step 3: Decide the significance level"
   ]
  },
  {
   "cell_type": "markdown",
   "id": "7efe16e9",
   "metadata": {},
   "source": [
    "Level of Significance is 0.05 as mentioned in the problem statement\n",
    "\n",
    "α = 0.05    "
   ]
  },
  {
   "cell_type": "markdown",
   "id": "80c5082c",
   "metadata": {},
   "source": [
    "### Step 4: Collect and prepare data"
   ]
  },
  {
   "cell_type": "code",
   "execution_count": 74,
   "id": "2edceca4",
   "metadata": {},
   "outputs": [
    {
     "data": {
      "text/plain": [
       "French     17\n",
       "Spanish    17\n",
       "English    16\n",
       "Name: language_preferred, dtype: int64"
      ]
     },
     "execution_count": 74,
     "metadata": {},
     "output_type": "execute_result"
    }
   ],
   "source": [
    "# Find out the unique language count\n",
    "new_landing_page['language_preferred'].value_counts()"
   ]
  },
  {
   "cell_type": "code",
   "execution_count": 75,
   "id": "7ae857e4",
   "metadata": {},
   "outputs": [
    {
     "name": "stdout",
     "output_type": "stream",
     "text": [
      "language_preferred\n",
      "English    6.663750\n",
      "French     6.196471\n",
      "Spanish    5.835294\n",
      "Name: time_spent_on_the_page, dtype: float64\n"
     ]
    },
    {
     "data": {
      "image/png": "[encoded data removed]",
      "text/plain": [
       "<Figure size 720x432 with 1 Axes>"
      ]
     },
     "metadata": {
      "needs_background": "light"
     },
     "output_type": "display_data"
    }
   ],
   "source": [
    "# Lets us now get the mean values of all the three languages for further analysis\n",
    "print(new_landing_page.groupby(\"language_preferred\")[\"time_spent_on_the_page\"].mean())\n",
    "\n",
    "# draw the boxplot for visualization \n",
    "fig, ax = plt.subplots(figsize = (10,6))\n",
    "a = sns.boxplot(x= \"language_preferred\", y = 'time_spent_on_the_page' , data = new_landing_page, hue = 'language_preferred')\n",
    "a.set_title(\"time_spent_on_the_page w.r.t. language_preferred (3 Types)\", fontsize=15)\n",
    "plt.show()"
   ]
  },
  {
   "cell_type": "markdown",
   "id": "1f22fae8",
   "metadata": {},
   "source": [
    "#### Now, the normality and equality of variance assumptions need to be checked. \n",
    "\n",
    "* For testing of normality, Shapiro-Wilk’s test is applied to the response variable.\n",
    "\n",
    "* For equality of variance, Levene test is applied to the response variable."
   ]
  },
  {
   "cell_type": "markdown",
   "id": "4b79063e",
   "metadata": {},
   "source": [
    "### Shapiro-Wilk’s test\n",
    "\n",
    "We will test the null hypothesis\n",
    "\n",
    ">$H_0:$ time_spent_on_the_page follows a normal distribution against\n",
    "\n",
    "against the alternative hypothesis\n",
    "\n",
    ">$H_a:$ time_spent_on_the_page does not follow a normal distribution"
   ]
  },
  {
   "cell_type": "code",
   "execution_count": 76,
   "id": "7eeeb2f3",
   "metadata": {},
   "outputs": [
    {
     "name": "stdout",
     "output_type": "stream",
     "text": [
      "The p-value is 0.8040016293525696\n"
     ]
    }
   ],
   "source": [
    "# Assumption 1: Normality\n",
    "# import the required function\n",
    "from scipy import stats\n",
    "\n",
    "# find the p-value\n",
    "w, p_value = stats.shapiro(new_landing_page['time_spent_on_the_page']) \n",
    "print('The p-value is', p_value)"
   ]
  },
  {
   "cell_type": "markdown",
   "id": "31ed1f17",
   "metadata": {},
   "source": [
    "#### Conclusion : Since p-value of the test is very large, we fail to reject the null hypothesis that the response follows the normal distribution."
   ]
  },
  {
   "cell_type": "markdown",
   "id": "5f2031a8",
   "metadata": {},
   "source": [
    "### Levene’s test\n",
    "\n",
    "We will test the null hypothesis\n",
    "\n",
    ">$H_0$: All the population variances are equal\n",
    "\n",
    "against the alternative hypothesis\n",
    "\n",
    ">$H_a$: At least one variance is different from the rest"
   ]
  },
  {
   "cell_type": "code",
   "execution_count": 77,
   "id": "cbb4e43c",
   "metadata": {},
   "outputs": [
    {
     "name": "stdout",
     "output_type": "stream",
     "text": [
      "The p-value is 0.46711357711340173\n"
     ]
    }
   ],
   "source": [
    "#Assumption 2: Homogeneity of Variance\n",
    "#import the required function\n",
    "from scipy.stats import levene\n",
    "statistic, p_value = levene( new_landing_page['time_spent_on_the_page'][new_landing_page['language_preferred']==\"English\"], \n",
    "                                   new_landing_page['time_spent_on_the_page'][new_landing_page['language_preferred']==\"French\"], \n",
    "                                   new_landing_page['time_spent_on_the_page'][new_landing_page['language_preferred']==\"Spanish\"])\n",
    "# find the p-value\n",
    "print('The p-value is', p_value)"
   ]
  },
  {
   "cell_type": "markdown",
   "id": "ce60cd0b",
   "metadata": {},
   "source": [
    "#### Conclusion : Since the p-value is large, we fail to reject the null hypothesis of homogeneity of variances."
   ]
  },
  {
   "cell_type": "markdown",
   "id": "71a832ff",
   "metadata": {},
   "source": [
    "### Step 5: Let's test whether the  One-way ANOVA Test assumptions are satisfied or not"
   ]
  },
  {
   "cell_type": "markdown",
   "id": "7bb0fb80",
   "metadata": {},
   "source": [
    "### Let's test whether the assumptions are satisfied or not\n",
    "\n",
    "* The populations are normally distributed - Yes, the normality assumption is verified using the Shapiro-Wilk’s test.\n",
    "* Samples are independent simple random samples - Yes, we are informed that the collected sample is a simple random sample.\n",
    "* Population variances are equal - Yes, the homogeneity of variance assumption is verified using the Levene's test.\n",
    "\n"
   ]
  },
  {
   "cell_type": "markdown",
   "id": "d3ee8a23",
   "metadata": {},
   "source": [
    "### Step 6: Calculate the p-value"
   ]
  },
  {
   "cell_type": "code",
   "execution_count": 78,
   "id": "0022a2ce",
   "metadata": {},
   "outputs": [
    {
     "name": "stdout",
     "output_type": "stream",
     "text": [
      "The p-value is 0.43204138694325955\n"
     ]
    }
   ],
   "source": [
    "#import the required function\n",
    "from scipy.stats import f_oneway\n",
    "\n",
    "# perform one-way anova test\n",
    "test_stat, p_value = f_oneway(new_landing_page.loc[new_landing_page['language_preferred']==\"English\", 'time_spent_on_the_page'],\n",
    "                              new_landing_page.loc[new_landing_page['language_preferred']==\"French\", 'time_spent_on_the_page'],\n",
    "                              new_landing_page.loc[new_landing_page['language_preferred']==\"Spanish\", 'time_spent_on_the_page'])\n",
    "print('The p-value is ' + str(p_value))"
   ]
  },
  {
   "cell_type": "markdown",
   "id": "770bcbcc",
   "metadata": {},
   "source": [
    "### Step 7: Compare the p-value with $\\alpha$"
   ]
  },
  {
   "cell_type": "markdown",
   "id": "2eb609e3",
   "metadata": {},
   "source": [
    "*  P value = 0.43204138694325955\n",
    "*  𝛼 value = 0.05 \n",
    "\n",
    "#### P-value is greater compared to the 𝛼 value ( level of significance )"
   ]
  },
  {
   "cell_type": "markdown",
   "id": "f1a92c92",
   "metadata": {},
   "source": [
    "### Step 8:  Draw inference"
   ]
  },
  {
   "cell_type": "markdown",
   "id": "0ba7e483",
   "metadata": {},
   "source": [
    "As the p-value is greater than the significance level, we fail to reject the null hypothesis. Hence we can conclude that the time spent on the new page is same for the different language users"
   ]
  },
  {
   "cell_type": "markdown",
   "id": "3acbc947",
   "metadata": {
    "id": "3acbc947"
   },
   "source": [
    "## Conclusion and Business Recommendations"
   ]
  },
  {
   "cell_type": "markdown",
   "id": "a0015191",
   "metadata": {},
   "source": [
    "### Conclusions  based on EDA and Hypothesis Tests on the Objectives given."
   ]
  },
  {
   "cell_type": "markdown",
   "id": "21fb1063",
   "metadata": {
    "id": "21fb1063"
   },
   "source": [
    "\n",
    "### 1. Do the users spend more time on the new landing page than the existing landing page?\n",
    " * conclusion: yes, user spend more on the landing page when compared to the existing page.\n",
    "\n",
    "\n",
    "### 2. Is the conversion rate (the proportion of users who visit the landing page and get converted) for the new page greater than the conversion rate for the old page?\n",
    " *  conclusion: Yes, Based on the above analysis we have enough statiscal evidence to conclude that conversion is greater for the new page.\n",
    "\n",
    "\n",
    "### 3. Does the converted status depend on the preferred language?\n",
    " * conclusion: No, the conversion rate is not dependant on the preferred language.\n",
    "\n",
    "\n",
    "### 4. Is the time spent on the new page same for the different language users?\n",
    " * conclusion: yes,based on our analysis we can conclude that the time spent on the new page is same for the different language users"
   ]
  },
  {
   "cell_type": "markdown",
   "id": "0ac33fef",
   "metadata": {},
   "source": [
    "### Business Recommendations"
   ]
  },
  {
   "cell_type": "markdown",
   "id": "b60d0a9b",
   "metadata": {},
   "source": [
    "1. There has been enough statiscal evidences to conclude that new landing page showed a good response from the customers.\n",
    "2. Enough Evidence to conclude customers spend more time on the new page  and would expect more of the new content.\n",
    "3. There has been not much evidence to conclude if the customers have a preferred language. Hence, adding a new langauge may or may not be of immediate profit.\n",
    "4. However, adding a new language will add new content and might attract new customers.\n",
    "5. Since, there has been a good conversion rate and response from the customers it is advisable and would be profitable to invest and expand the new landing page.\n",
    "6. As it is clear that customers are spending more time on the new page and would soon run of content.It is recommended to come up with new content and features based on the customer interests.\n",
    "7. Overall to conclude the new Landing page  is worthwhile and beneficial to the Business."
   ]
  },
  {
   "cell_type": "code",
   "execution_count": null,
   "id": "79604746",
   "metadata": {},
   "outputs": [],
   "source": []
  }
 ],
 "metadata": {
  "colab": {
   "collapsed_sections": [],
   "name": "ENews_Express_Learner_Notebook[Full Code Version].ipynb",
   "provenance": []
  },
  "kernelspec": {
   "display_name": "Python 3 (ipykernel)",
   "language": "python",
   "name": "python3"
  },
  "language_info": {
   "codemirror_mode": {
    "name": "ipython",
    "version": 3
   },
   "file_extension": ".py",
   "mimetype": "text/x-python",
   "name": "python",
   "nbconvert_exporter": "python",
   "pygments_lexer": "ipython3",
   "version": "3.10.9"
  }
 },
 "nbformat": 4,
 "nbformat_minor": 5
}
